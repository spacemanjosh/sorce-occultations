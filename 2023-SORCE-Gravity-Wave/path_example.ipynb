{
 "cells": [
  {
   "cell_type": "code",
   "execution_count": 1,
   "id": "7ec0a244-d087-47a2-8634-213937983ba8",
   "metadata": {},
   "outputs": [
    {
     "name": "stdout",
     "output_type": "stream",
     "text": [
      "/Users/elliotjp/git/sorce-occultations/data\n"
     ]
    }
   ],
   "source": [
    "from pathlib import Path\n",
    "\n",
    "data_dir = Path.cwd() / 'data'\n",
    "print(data_dir)"
   ]
  },
  {
   "cell_type": "code",
   "execution_count": 4,
   "id": "49d3e36f-7623-459d-a35a-e3acf15477d9",
   "metadata": {},
   "outputs": [],
   "source": [
    "files = list(data_dir.glob('**/*.nc'))"
   ]
  },
  {
   "cell_type": "code",
   "execution_count": 5,
   "id": "049eb074-ae86-4743-ac7f-4dc9d01aec96",
   "metadata": {},
   "outputs": [
    {
     "name": "stdout",
     "output_type": "stream",
     "text": [
      "/Users/elliotjp/git/sorce-occultations/data/solstice_fuv_stellar_occultation_20060524T054808.353.nc\n"
     ]
    }
   ],
   "source": [
    "print(files[0])"
   ]
  },
  {
   "cell_type": "code",
   "execution_count": null,
   "id": "2da788ac-9ddf-4ccc-b635-5dd2cee76b9e",
   "metadata": {},
   "outputs": [],
   "source": [
    "density_profiles = []\n",
    "for f in files:\n",
    "    density = get_cd(f)\n",
    "    density_profiles.append(density)\n",
    "    \n",
    "\n",
    "    "
   ]
  }
 ],
 "metadata": {
  "kernelspec": {
   "display_name": "Python 3 (ipykernel)",
   "language": "python",
   "name": "python3"
  },
  "language_info": {
   "codemirror_mode": {
    "name": "ipython",
    "version": 3
   },
   "file_extension": ".py",
   "mimetype": "text/x-python",
   "name": "python",
   "nbconvert_exporter": "python",
   "pygments_lexer": "ipython3",
   "version": "3.8.12"
  }
 },
 "nbformat": 4,
 "nbformat_minor": 5
}
